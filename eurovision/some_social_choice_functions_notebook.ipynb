{
 "cells": [
  {
   "cell_type": "code",
   "execution_count": 1,
   "metadata": {},
   "outputs": [],
   "source": [
    "from create_profiles import load_data\n",
    "import random\n",
    "import operator\n",
    "\n",
    "def print_profile(profile):\n",
    "    for country, ballot in profile.items():\n",
    "        print(f\"{country}: {ballot}\")"
   ]
  },
  {
   "cell_type": "code",
   "execution_count": 2,
   "metadata": {},
   "outputs": [],
   "source": [
    "profiles_per_edition = load_data()"
   ]
  },
  {
   "cell_type": "code",
   "execution_count": 33,
   "metadata": {},
   "outputs": [],
   "source": [
    "def get_all_alternatives(profile):\n",
    "    return set(list(profile.values())[0]).union(set(list(profile.values())[1]))\n",
    "\n",
    "def random_dictatorship(profile):\n",
    "    chosen_agent = random.choice(list(profile.keys()))\n",
    "    return profile[chosen_agent][0]\n",
    "\n",
    "def stv_with_random_dictatorship(profile):\n",
    "    remaining_countries = get_all_alternatives(profile)\n",
    "\n",
    "    while(len(remaining_countries) > 1):\n",
    "        chosen_agent = random.choice(list(profile.keys()))\n",
    "        for country in reversed(profile[chosen_agent]):\n",
    "            if country in remaining_countries:\n",
    "                remaining_countries.remove(country)\n",
    "                break\n",
    "    \n",
    "    return remaining_countries.pop()\n",
    "\n",
    "def scoring_social_choice_function(profile, scoring_system):\n",
    "    points_hist = {country: 0 for country in get_all_alternatives(profile)}\n",
    "    for ballot in profile.values():\n",
    "        for to_country, points in zip(ballot, scoring_system):\n",
    "            points_hist[to_country] += points\n",
    "    return max(points_hist.items(), key=operator.itemgetter(1))[0]\n",
    "\n",
    "def song_festival_rules(profile):\n",
    "    scoring_system = [12, 10, 8, 7, 6, 5, 4, 3, 2, 1]\n",
    "    return scoring_social_choice_function(profile, scoring_system)\n",
    "\n",
    "def borda(profile):\n",
    "    scoring_system = list(reversed(range(len(profile) - 1)))\n",
    "    return scoring_social_choice_function(profile, scoring_system)\n",
    "\n",
    "def plurality(profile):\n",
    "    scoring_system = [1]\n",
    "    return scoring_social_choice_function(profile, scoring_system)\n",
    "\n",
    "all_scfs = [random_dictatorship, stv_with_random_dictatorship, plurality, borda, song_festival_rules]\n",
    "all_scf_names = [scf.__name__ for scf in all_scfs]\n",
    "all_scfs_with_names = list(zip(all_scfs, all_scf_names))"
   ]
  },
  {
   "cell_type": "code",
   "execution_count": 34,
   "metadata": {},
   "outputs": [
    {
     "name": "stdout",
     "output_type": "stream",
     "text": [
      "Belgium: ['Ireland', 'United Kingdom', 'Switzerland', 'Malta', 'Italy', 'Yugoslavia', 'Spain', 'The Netherlands', 'France', 'Israel', 'Finland', 'Germany', 'Luxembourg', 'Monaco', 'Norway', 'Portugal', 'Sweden', 'Turkey']\n",
      "Finland: ['Italy', 'The Netherlands', 'Spain', 'United Kingdom', 'Sweden', 'Luxembourg', 'Switzerland', 'Israel', 'Monaco', 'Ireland', 'Belgium', 'France', 'Germany', 'Malta', 'Norway', 'Portugal', 'Turkey', 'Yugoslavia']\n",
      "France: ['United Kingdom', 'Switzerland', 'Malta', 'Sweden', 'Ireland', 'The Netherlands', 'Italy', 'Luxembourg', 'Portugal', 'Israel', 'Belgium', 'Finland', 'Germany', 'Monaco', 'Norway', 'Spain', 'Turkey', 'Yugoslavia']\n",
      "Germany: ['Finland', 'United Kingdom', 'The Netherlands', 'Belgium', 'Switzerland', 'Spain', 'Italy', 'Monaco', 'Yugoslavia', 'Israel', 'France', 'Ireland', 'Luxembourg', 'Malta', 'Norway', 'Portugal', 'Sweden', 'Turkey']\n",
      "Ireland: ['France', 'Luxembourg', 'The Netherlands', 'Spain', 'Italy', 'Finland', 'Yugoslavia', 'United Kingdom', 'Switzerland', 'Israel', 'Belgium', 'Germany', 'Malta', 'Monaco', 'Norway', 'Portugal', 'Sweden', 'Turkey']\n",
      "Israel: ['The Netherlands', 'United Kingdom', 'Finland', 'France', 'Luxembourg', 'Italy', 'Spain', 'Sweden', 'Monaco', 'Malta', 'Belgium', 'Germany', 'Ireland', 'Norway', 'Portugal', 'Switzerland', 'Turkey', 'Yugoslavia']\n",
      "Italy: ['Switzerland', 'Luxembourg', 'France', 'Norway', 'Spain', 'Monaco', 'Ireland', 'United Kingdom', 'Israel', 'The Netherlands', 'Belgium', 'Finland', 'Germany', 'Malta', 'Portugal', 'Sweden', 'Turkey', 'Yugoslavia']\n",
      "Luxembourg: ['United Kingdom', 'The Netherlands', 'Germany', 'Sweden', 'Finland', 'Malta', 'Monaco', 'Italy', 'Switzerland', 'Israel', 'Belgium', 'France', 'Ireland', 'Norway', 'Portugal', 'Spain', 'Turkey', 'Yugoslavia']\n",
      "Malta: ['The Netherlands', 'Italy', 'United Kingdom', 'France', 'Switzerland', 'Luxembourg', 'Ireland', 'Germany', 'Sweden', 'Monaco', 'Belgium', 'Finland', 'Israel', 'Norway', 'Portugal', 'Spain', 'Turkey', 'Yugoslavia']\n",
      "Monaco: ['United Kingdom', 'The Netherlands', 'Finland', 'France', 'Sweden', 'Switzerland', 'Spain', 'Turkey', 'Norway', 'Italy', 'Belgium', 'Germany', 'Ireland', 'Israel', 'Luxembourg', 'Malta', 'Portugal', 'Yugoslavia']\n",
      "Norway: ['The Netherlands', 'Finland', 'Sweden', 'United Kingdom', 'Italy', 'Israel', 'Ireland', 'Spain', 'Malta', 'Switzerland', 'Belgium', 'France', 'Germany', 'Luxembourg', 'Monaco', 'Portugal', 'Turkey', 'Yugoslavia']\n",
      "Portugal: ['France', 'Italy', 'Luxembourg', 'The Netherlands', 'Sweden', 'United Kingdom', 'Ireland', 'Monaco', 'Switzerland', 'Yugoslavia', 'Belgium', 'Finland', 'Germany', 'Israel', 'Malta', 'Norway', 'Spain', 'Turkey']\n",
      "Spain: ['The Netherlands', 'United Kingdom', 'France', 'Italy', 'Luxembourg', 'Sweden', 'Germany', 'Ireland', 'Portugal', 'Finland', 'Belgium', 'Israel', 'Malta', 'Monaco', 'Norway', 'Switzerland', 'Turkey', 'Yugoslavia']\n",
      "Sweden: ['The Netherlands', 'Ireland', 'France', 'Yugoslavia', 'Israel', 'United Kingdom', 'Luxembourg', 'Finland', 'Belgium', 'Italy', 'Germany', 'Malta', 'Monaco', 'Norway', 'Portugal', 'Spain', 'Switzerland', 'Turkey']\n",
      "Switzerland: ['Finland', 'Italy', 'United Kingdom', 'Ireland', 'The Netherlands', 'Spain', 'Malta', 'France', 'Israel', 'Sweden', 'Belgium', 'Germany', 'Luxembourg', 'Monaco', 'Norway', 'Portugal', 'Turkey', 'Yugoslavia']\n",
      "The Netherlands: ['Luxembourg', 'Israel', 'France', 'Switzerland', 'Ireland', 'Belgium', 'United Kingdom', 'Yugoslavia', 'Norway', 'Malta', 'Finland', 'Germany', 'Italy', 'Monaco', 'Portugal', 'Spain', 'Sweden', 'Turkey']\n",
      "Turkey: ['Portugal', 'Italy', 'Sweden', 'Switzerland', 'Israel', 'Luxembourg', 'The Netherlands', 'Spain', 'Malta', 'France', 'Belgium', 'Finland', 'Germany', 'Ireland', 'Monaco', 'Norway', 'United Kingdom', 'Yugoslavia']\n",
      "United Kingdom: ['The Netherlands', 'Italy', 'France', 'Sweden', 'Ireland', 'Switzerland', 'Finland', 'Luxembourg', 'Monaco', 'Israel', 'Belgium', 'Germany', 'Malta', 'Norway', 'Portugal', 'Spain', 'Turkey', 'Yugoslavia']\n",
      "Yugoslavia: ['United Kingdom', 'Italy', 'The Netherlands', 'Luxembourg', 'Sweden', 'Finland', 'Spain', 'Belgium', 'Malta', 'Ireland', 'France', 'Germany', 'Israel', 'Monaco', 'Norway', 'Portugal', 'Switzerland', 'Turkey']\n"
     ]
    }
   ],
   "source": [
    "profile = profiles_per_edition['1975f']\n",
    "\n",
    "print_profile(profiles_per_edition['1975f'])"
   ]
  },
  {
   "cell_type": "code",
   "execution_count": 39,
   "metadata": {},
   "outputs": [],
   "source": [
    "def add_linear_cost(profile):\n",
    "    \"\"\"\n",
    "    profile: a dict representing the profile of the form {agent: [choice_1, ... , choice_n]}\n",
    "    returns: a dict of the form: {agent: [(choice_1, 0), ... , (choice_n, n-1)]}\n",
    "    \"\"\"\n",
    "    return {agent: list(zip(ballot, range(len(ballot)))) for agent, ballot in profile.items()}\n",
    "\n",
    "def get_total_cost_for_alternative(alternative, profile_with_costs):\n",
    "        cost = 0\n",
    "        for agent, ballot_with_costs in profile_with_costs.items():\n",
    "            alternative_cost_dict = dict(ballot_with_costs)\n",
    "            if alternative in alternative_cost_dict:\n",
    "                cost += alternative_cost_dict[alternative]\n",
    "        return cost\n",
    "\n",
    "def get_lowest_cost(alternatives, profile_with_costs):\n",
    "    lowest_cost = 99999\n",
    "    best_a = None\n",
    "    for a in alternatives:\n",
    "        cost = get_total_cost_for_alternative(a, profile_with_costs)\n",
    "        if cost < lowest_cost:\n",
    "            best_a = a\n",
    "            lowest_cost = cost\n",
    "    return lowest_cost, best_a\n",
    "\n",
    "\n",
    "def distortion(chosen_alternative, profile):\n",
    "    alternatives = get_all_alternatives(profile)\n",
    "    if chosen_alternative not in alternatives:\n",
    "        raise KeyError(\"The chosen alternative is present in the provided profile\")\n",
    "    profile_with_costs = add_linear_cost(profile)\n",
    "    \n",
    "    best_possible_cost, best_a = get_lowest_cost(alternatives, profile_with_costs)\n",
    "    chosen_alternative_cost = get_total_cost_for_alternative(chosen_alternative, profile_with_costs)\n",
    "    print(f\"Chosen a: {chosen_alternative}({chosen_alternative_cost})\\nBest a: {best_a}({best_possible_cost})\")\n",
    "    return chosen_alternative_cost / best_possible_cost\n",
    "\n",
    "def best_scf(profile):\n",
    "    \"\"\" Work in progress, no idea what I wanted to do here\"\"\"\n",
    "    scf_distortion_pairs = [(scf_name, distortion(scf(profile), profile)) for scf, scf_name in all_scfs_with_names]\n",
    "    print(list(sorted(scf_distortion_pairs, key=lambda p: p[1])))\n",
    "    return list(sorted(scf_distortion_pairs, key=lambda p: p[1]))"
   ]
  },
  {
   "cell_type": "code",
   "execution_count": 36,
   "metadata": {},
   "outputs": [
    {
     "name": "stdout",
     "output_type": "stream",
     "text": [
      "{'Belgium': [('Ireland', 0), ('United Kingdom', 1), ('Switzerland', 2), ('Malta', 3), ('Italy', 4), ('Yugoslavia', 5), ('Spain', 6), ('The Netherlands', 7), ('France', 8), ('Israel', 9), ('Finland', 10), ('Germany', 11), ('Luxembourg', 12), ('Monaco', 13), ('Norway', 14), ('Portugal', 15), ('Sweden', 16), ('Turkey', 17)], 'Finland': [('Italy', 0), ('The Netherlands', 1), ('Spain', 2), ('United Kingdom', 3), ('Sweden', 4), ('Luxembourg', 5), ('Switzerland', 6), ('Israel', 7), ('Monaco', 8), ('Ireland', 9), ('Belgium', 10), ('France', 11), ('Germany', 12), ('Malta', 13), ('Norway', 14), ('Portugal', 15), ('Turkey', 16), ('Yugoslavia', 17)], 'France': [('United Kingdom', 0), ('Switzerland', 1), ('Malta', 2), ('Sweden', 3), ('Ireland', 4), ('The Netherlands', 5), ('Italy', 6), ('Luxembourg', 7), ('Portugal', 8), ('Israel', 9), ('Belgium', 10), ('Finland', 11), ('Germany', 12), ('Monaco', 13), ('Norway', 14), ('Spain', 15), ('Turkey', 16), ('Yugoslavia', 17)], 'Germany': [('Finland', 0), ('United Kingdom', 1), ('The Netherlands', 2), ('Belgium', 3), ('Switzerland', 4), ('Spain', 5), ('Italy', 6), ('Monaco', 7), ('Yugoslavia', 8), ('Israel', 9), ('France', 10), ('Ireland', 11), ('Luxembourg', 12), ('Malta', 13), ('Norway', 14), ('Portugal', 15), ('Sweden', 16), ('Turkey', 17)], 'Ireland': [('France', 0), ('Luxembourg', 1), ('The Netherlands', 2), ('Spain', 3), ('Italy', 4), ('Finland', 5), ('Yugoslavia', 6), ('United Kingdom', 7), ('Switzerland', 8), ('Israel', 9), ('Belgium', 10), ('Germany', 11), ('Malta', 12), ('Monaco', 13), ('Norway', 14), ('Portugal', 15), ('Sweden', 16), ('Turkey', 17)], 'Israel': [('The Netherlands', 0), ('United Kingdom', 1), ('Finland', 2), ('France', 3), ('Luxembourg', 4), ('Italy', 5), ('Spain', 6), ('Sweden', 7), ('Monaco', 8), ('Malta', 9), ('Belgium', 10), ('Germany', 11), ('Ireland', 12), ('Norway', 13), ('Portugal', 14), ('Switzerland', 15), ('Turkey', 16), ('Yugoslavia', 17)], 'Italy': [('Switzerland', 0), ('Luxembourg', 1), ('France', 2), ('Norway', 3), ('Spain', 4), ('Monaco', 5), ('Ireland', 6), ('United Kingdom', 7), ('Israel', 8), ('The Netherlands', 9), ('Belgium', 10), ('Finland', 11), ('Germany', 12), ('Malta', 13), ('Portugal', 14), ('Sweden', 15), ('Turkey', 16), ('Yugoslavia', 17)], 'Luxembourg': [('United Kingdom', 0), ('The Netherlands', 1), ('Germany', 2), ('Sweden', 3), ('Finland', 4), ('Malta', 5), ('Monaco', 6), ('Italy', 7), ('Switzerland', 8), ('Israel', 9), ('Belgium', 10), ('France', 11), ('Ireland', 12), ('Norway', 13), ('Portugal', 14), ('Spain', 15), ('Turkey', 16), ('Yugoslavia', 17)], 'Malta': [('The Netherlands', 0), ('Italy', 1), ('United Kingdom', 2), ('France', 3), ('Switzerland', 4), ('Luxembourg', 5), ('Ireland', 6), ('Germany', 7), ('Sweden', 8), ('Monaco', 9), ('Belgium', 10), ('Finland', 11), ('Israel', 12), ('Norway', 13), ('Portugal', 14), ('Spain', 15), ('Turkey', 16), ('Yugoslavia', 17)], 'Monaco': [('United Kingdom', 0), ('The Netherlands', 1), ('Finland', 2), ('France', 3), ('Sweden', 4), ('Switzerland', 5), ('Spain', 6), ('Turkey', 7), ('Norway', 8), ('Italy', 9), ('Belgium', 10), ('Germany', 11), ('Ireland', 12), ('Israel', 13), ('Luxembourg', 14), ('Malta', 15), ('Portugal', 16), ('Yugoslavia', 17)], 'Norway': [('The Netherlands', 0), ('Finland', 1), ('Sweden', 2), ('United Kingdom', 3), ('Italy', 4), ('Israel', 5), ('Ireland', 6), ('Spain', 7), ('Malta', 8), ('Switzerland', 9), ('Belgium', 10), ('France', 11), ('Germany', 12), ('Luxembourg', 13), ('Monaco', 14), ('Portugal', 15), ('Turkey', 16), ('Yugoslavia', 17)], 'Portugal': [('France', 0), ('Italy', 1), ('Luxembourg', 2), ('The Netherlands', 3), ('Sweden', 4), ('United Kingdom', 5), ('Ireland', 6), ('Monaco', 7), ('Switzerland', 8), ('Yugoslavia', 9), ('Belgium', 10), ('Finland', 11), ('Germany', 12), ('Israel', 13), ('Malta', 14), ('Norway', 15), ('Spain', 16), ('Turkey', 17)], 'Spain': [('The Netherlands', 0), ('United Kingdom', 1), ('France', 2), ('Italy', 3), ('Luxembourg', 4), ('Sweden', 5), ('Germany', 6), ('Ireland', 7), ('Portugal', 8), ('Finland', 9), ('Belgium', 10), ('Israel', 11), ('Malta', 12), ('Monaco', 13), ('Norway', 14), ('Switzerland', 15), ('Turkey', 16), ('Yugoslavia', 17)], 'Sweden': [('The Netherlands', 0), ('Ireland', 1), ('France', 2), ('Yugoslavia', 3), ('Israel', 4), ('United Kingdom', 5), ('Luxembourg', 6), ('Finland', 7), ('Belgium', 8), ('Italy', 9), ('Germany', 10), ('Malta', 11), ('Monaco', 12), ('Norway', 13), ('Portugal', 14), ('Spain', 15), ('Switzerland', 16), ('Turkey', 17)], 'Switzerland': [('Finland', 0), ('Italy', 1), ('United Kingdom', 2), ('Ireland', 3), ('The Netherlands', 4), ('Spain', 5), ('Malta', 6), ('France', 7), ('Israel', 8), ('Sweden', 9), ('Belgium', 10), ('Germany', 11), ('Luxembourg', 12), ('Monaco', 13), ('Norway', 14), ('Portugal', 15), ('Turkey', 16), ('Yugoslavia', 17)], 'The Netherlands': [('Luxembourg', 0), ('Israel', 1), ('France', 2), ('Switzerland', 3), ('Ireland', 4), ('Belgium', 5), ('United Kingdom', 6), ('Yugoslavia', 7), ('Norway', 8), ('Malta', 9), ('Finland', 10), ('Germany', 11), ('Italy', 12), ('Monaco', 13), ('Portugal', 14), ('Spain', 15), ('Sweden', 16), ('Turkey', 17)], 'Turkey': [('Portugal', 0), ('Italy', 1), ('Sweden', 2), ('Switzerland', 3), ('Israel', 4), ('Luxembourg', 5), ('The Netherlands', 6), ('Spain', 7), ('Malta', 8), ('France', 9), ('Belgium', 10), ('Finland', 11), ('Germany', 12), ('Ireland', 13), ('Monaco', 14), ('Norway', 15), ('United Kingdom', 16), ('Yugoslavia', 17)], 'United Kingdom': [('The Netherlands', 0), ('Italy', 1), ('France', 2), ('Sweden', 3), ('Ireland', 4), ('Switzerland', 5), ('Finland', 6), ('Luxembourg', 7), ('Monaco', 8), ('Israel', 9), ('Belgium', 10), ('Germany', 11), ('Malta', 12), ('Norway', 13), ('Portugal', 14), ('Spain', 15), ('Turkey', 16), ('Yugoslavia', 17)], 'Yugoslavia': [('United Kingdom', 0), ('Italy', 1), ('The Netherlands', 2), ('Luxembourg', 3), ('Sweden', 4), ('Finland', 5), ('Spain', 6), ('Belgium', 7), ('Malta', 8), ('Ireland', 9), ('France', 10), ('Germany', 11), ('Israel', 12), ('Monaco', 13), ('Norway', 14), ('Portugal', 15), ('Switzerland', 16), ('Turkey', 17)]}\n",
      "{'Ireland': 0, 'United Kingdom': 1, 'Switzerland': 2, 'Malta': 3, 'Italy': 4, 'Yugoslavia': 5, 'Spain': 6, 'The Netherlands': 7, 'France': 8, 'Israel': 9, 'Finland': 10, 'Germany': 11, 'Luxembourg': 12, 'Monaco': 13, 'Norway': 14, 'Portugal': 15, 'Sweden': 16, 'Turkey': 17}\n",
      "Chosen a: United Kingdom(60)\n",
      "Best a: The Netherlands(43)\n",
      "1.3953488372093024\n"
     ]
    }
   ],
   "source": [
    "print(add_linear_cost(profile))\n",
    "print(dict(add_linear_cost(profile)['Belgium']))\n",
    "print(distortion('United Kingdom', profile))"
   ]
  },
  {
   "cell_type": "code",
   "execution_count": 42,
   "metadata": {},
   "outputs": [
    {
     "name": "stdout",
     "output_type": "stream",
     "text": [
      "Chosen a: The Netherlands(43)\n",
      "Best a: The Netherlands(43)\n",
      "Chosen a: Luxembourg(113)\n",
      "Best a: The Netherlands(43)\n",
      "Chosen a: The Netherlands(43)\n",
      "Best a: The Netherlands(43)\n",
      "Chosen a: The Netherlands(43)\n",
      "Best a: The Netherlands(43)\n",
      "Chosen a: The Netherlands(43)\n",
      "Best a: The Netherlands(43)\n",
      "[('random_dictatorship', 1.0), ('plurality', 1.0), ('borda', 1.0), ('song_festival_rules', 1.0), ('stv_with_random_dictatorship', 2.627906976744186)]\n"
     ]
    },
    {
     "data": {
      "text/plain": [
       "[('random_dictatorship', 1.0),\n",
       " ('plurality', 1.0),\n",
       " ('borda', 1.0),\n",
       " ('song_festival_rules', 1.0),\n",
       " ('stv_with_random_dictatorship', 2.627906976744186)]"
      ]
     },
     "execution_count": 42,
     "metadata": {},
     "output_type": "execute_result"
    }
   ],
   "source": [
    "best_scf(profile)"
   ]
  },
  {
   "cell_type": "code",
   "execution_count": null,
   "metadata": {},
   "outputs": [],
   "source": []
  }
 ],
 "metadata": {
  "kernelspec": {
   "display_name": "Python 3",
   "language": "python",
   "name": "python3"
  },
  "language_info": {
   "codemirror_mode": {
    "name": "ipython",
    "version": 3
   },
   "file_extension": ".py",
   "mimetype": "text/x-python",
   "name": "python",
   "nbconvert_exporter": "python",
   "pygments_lexer": "ipython3",
   "version": "3.6.9"
  }
 },
 "nbformat": 4,
 "nbformat_minor": 4
}
