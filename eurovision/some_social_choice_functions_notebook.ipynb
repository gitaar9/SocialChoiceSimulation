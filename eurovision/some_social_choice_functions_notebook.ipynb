{
 "cells": [
  {
   "cell_type": "code",
   "execution_count": 32,
   "metadata": {},
   "outputs": [],
   "source": [
    "from create_profiles import load_data\n",
    "import random\n",
    "import operator\n",
    "\n",
    "def print_profile(profile):\n",
    "    for country, ballot in profile.items():\n",
    "        print(f\"{country}: {ballot}\")"
   ]
  },
  {
   "cell_type": "code",
   "execution_count": 2,
   "metadata": {},
   "outputs": [],
   "source": [
    "profiles_per_edition = load_data()"
   ]
  },
  {
   "cell_type": "code",
   "execution_count": 44,
   "metadata": {},
   "outputs": [],
   "source": [
    "def get_all_alternatives(profile):\n",
    "    return set(list(profile.values())[0]).union(set(list(profile.values())[1]))\n",
    "\n",
    "def random_dictatorship(profile):\n",
    "    chosen_agent = random.choice(list(profile.keys()))\n",
    "    return profile[chosen_agent][0]\n",
    "\n",
    "def stv_with_random_dictatorship(profile):\n",
    "    remaining_countries = get_all_alternatives(profile)\n",
    "\n",
    "    while(len(remaining_countries) > 1):\n",
    "        chosen_agent = random.choice(list(profile.keys()))\n",
    "        for country in reversed(profile[chosen_agent]):\n",
    "            if country in remaining_countries:\n",
    "                remaining_countries.remove(country)\n",
    "                break\n",
    "    \n",
    "    return remaining_countries.pop()\n",
    "\n",
    "def scoring_social_choice_function(profile, scoring_system):\n",
    "    points_hist = {country: 0 for country in get_all_alternatives(profile)}\n",
    "    for ballot in profile.values():\n",
    "        for to_country, points in zip(ballot, scoring_system):\n",
    "            points_hist[to_country] += points\n",
    "    return max(points_hist.items(), key=operator.itemgetter(1))[0]\n",
    "\n",
    "def song_festival_rules(profile):\n",
    "    scoring_system = [12, 10, 8, 7, 6, 5, 4, 3, 2, 1]\n",
    "    return scoring_social_choice_function(profile, scoring_system)\n",
    "\n",
    "def borda(profile):\n",
    "    scoring_system = list(reversed(range(len(profile) - 1)))\n",
    "    return scoring_social_choice_function(profile, scoring_system)"
   ]
  },
  {
   "cell_type": "code",
   "execution_count": 24,
   "metadata": {},
   "outputs": [
    {
     "name": "stdout",
     "output_type": "stream",
     "text": [
      "Belgium: ['Ireland', 'United Kingdom', 'Switzerland', 'Malta', 'Italy', 'Yugoslavia', 'Spain', 'The Netherlands', 'France', 'Israel', 'Finland', 'Germany', 'Luxembourg', 'Monaco', 'Norway', 'Portugal', 'Sweden', 'Turkey']\n",
      "Finland: ['Italy', 'The Netherlands', 'Spain', 'United Kingdom', 'Sweden', 'Luxembourg', 'Switzerland', 'Israel', 'Monaco', 'Ireland', 'Belgium', 'France', 'Germany', 'Malta', 'Norway', 'Portugal', 'Turkey', 'Yugoslavia']\n",
      "France: ['United Kingdom', 'Switzerland', 'Malta', 'Sweden', 'Ireland', 'The Netherlands', 'Italy', 'Luxembourg', 'Portugal', 'Israel', 'Belgium', 'Finland', 'Germany', 'Monaco', 'Norway', 'Spain', 'Turkey', 'Yugoslavia']\n",
      "Germany: ['Finland', 'United Kingdom', 'The Netherlands', 'Belgium', 'Switzerland', 'Spain', 'Italy', 'Monaco', 'Yugoslavia', 'Israel', 'France', 'Ireland', 'Luxembourg', 'Malta', 'Norway', 'Portugal', 'Sweden', 'Turkey']\n",
      "Ireland: ['France', 'Luxembourg', 'The Netherlands', 'Spain', 'Italy', 'Finland', 'Yugoslavia', 'United Kingdom', 'Switzerland', 'Israel', 'Belgium', 'Germany', 'Malta', 'Monaco', 'Norway', 'Portugal', 'Sweden', 'Turkey']\n",
      "Israel: ['The Netherlands', 'United Kingdom', 'Finland', 'France', 'Luxembourg', 'Italy', 'Spain', 'Sweden', 'Monaco', 'Malta', 'Belgium', 'Germany', 'Ireland', 'Norway', 'Portugal', 'Switzerland', 'Turkey', 'Yugoslavia']\n",
      "Italy: ['Switzerland', 'Luxembourg', 'France', 'Norway', 'Spain', 'Monaco', 'Ireland', 'United Kingdom', 'Israel', 'The Netherlands', 'Belgium', 'Finland', 'Germany', 'Malta', 'Portugal', 'Sweden', 'Turkey', 'Yugoslavia']\n",
      "Luxembourg: ['United Kingdom', 'The Netherlands', 'Germany', 'Sweden', 'Finland', 'Malta', 'Monaco', 'Italy', 'Switzerland', 'Israel', 'Belgium', 'France', 'Ireland', 'Norway', 'Portugal', 'Spain', 'Turkey', 'Yugoslavia']\n",
      "Malta: ['The Netherlands', 'Italy', 'United Kingdom', 'France', 'Switzerland', 'Luxembourg', 'Ireland', 'Germany', 'Sweden', 'Monaco', 'Belgium', 'Finland', 'Israel', 'Norway', 'Portugal', 'Spain', 'Turkey', 'Yugoslavia']\n",
      "Monaco: ['United Kingdom', 'The Netherlands', 'Finland', 'France', 'Sweden', 'Switzerland', 'Spain', 'Turkey', 'Norway', 'Italy', 'Belgium', 'Germany', 'Ireland', 'Israel', 'Luxembourg', 'Malta', 'Portugal', 'Yugoslavia']\n",
      "Norway: ['The Netherlands', 'Finland', 'Sweden', 'United Kingdom', 'Italy', 'Israel', 'Ireland', 'Spain', 'Malta', 'Switzerland', 'Belgium', 'France', 'Germany', 'Luxembourg', 'Monaco', 'Portugal', 'Turkey', 'Yugoslavia']\n",
      "Portugal: ['France', 'Italy', 'Luxembourg', 'The Netherlands', 'Sweden', 'United Kingdom', 'Ireland', 'Monaco', 'Switzerland', 'Yugoslavia', 'Belgium', 'Finland', 'Germany', 'Israel', 'Malta', 'Norway', 'Spain', 'Turkey']\n",
      "Spain: ['The Netherlands', 'United Kingdom', 'France', 'Italy', 'Luxembourg', 'Sweden', 'Germany', 'Ireland', 'Portugal', 'Finland', 'Belgium', 'Israel', 'Malta', 'Monaco', 'Norway', 'Switzerland', 'Turkey', 'Yugoslavia']\n",
      "Sweden: ['The Netherlands', 'Ireland', 'France', 'Yugoslavia', 'Israel', 'United Kingdom', 'Luxembourg', 'Finland', 'Belgium', 'Italy', 'Germany', 'Malta', 'Monaco', 'Norway', 'Portugal', 'Spain', 'Switzerland', 'Turkey']\n",
      "Switzerland: ['Finland', 'Italy', 'United Kingdom', 'Ireland', 'The Netherlands', 'Spain', 'Malta', 'France', 'Israel', 'Sweden', 'Belgium', 'Germany', 'Luxembourg', 'Monaco', 'Norway', 'Portugal', 'Turkey', 'Yugoslavia']\n",
      "The Netherlands: ['Luxembourg', 'Israel', 'France', 'Switzerland', 'Ireland', 'Belgium', 'United Kingdom', 'Yugoslavia', 'Norway', 'Malta', 'Finland', 'Germany', 'Italy', 'Monaco', 'Portugal', 'Spain', 'Sweden', 'Turkey']\n",
      "Turkey: ['Portugal', 'Italy', 'Sweden', 'Switzerland', 'Israel', 'Luxembourg', 'The Netherlands', 'Spain', 'Malta', 'France', 'Belgium', 'Finland', 'Germany', 'Ireland', 'Monaco', 'Norway', 'United Kingdom', 'Yugoslavia']\n",
      "United Kingdom: ['The Netherlands', 'Italy', 'France', 'Sweden', 'Ireland', 'Switzerland', 'Finland', 'Luxembourg', 'Monaco', 'Israel', 'Belgium', 'Germany', 'Malta', 'Norway', 'Portugal', 'Spain', 'Turkey', 'Yugoslavia']\n",
      "Yugoslavia: ['United Kingdom', 'Italy', 'The Netherlands', 'Luxembourg', 'Sweden', 'Finland', 'Spain', 'Belgium', 'Malta', 'Ireland', 'France', 'Germany', 'Israel', 'Monaco', 'Norway', 'Portugal', 'Switzerland', 'Turkey']\n"
     ]
    }
   ],
   "source": [
    "print_profile(profiles_per_edition['1975f'])"
   ]
  },
  {
   "cell_type": "code",
   "execution_count": 27,
   "metadata": {},
   "outputs": [
    {
     "name": "stdout",
     "output_type": "stream",
     "text": [
      "United Kingdom\n",
      "The Netherlands\n",
      "United Kingdom\n",
      "Italy\n",
      "Italy\n",
      "The Netherlands\n",
      "Italy\n",
      "The Netherlands\n",
      "United Kingdom\n",
      "Luxembourg\n"
     ]
    }
   ],
   "source": [
    "for _ in range(10):\n",
    "    print(stv_with_random_dictatorship(profiles_per_edition['1975f']))"
   ]
  },
  {
   "cell_type": "code",
   "execution_count": 46,
   "metadata": {},
   "outputs": [
    {
     "name": "stdout",
     "output_type": "stream",
     "text": [
      "{'Italy': 231, 'Sweden': 169, 'Monaco': 117, 'Turkey': 20, 'Switzerland': 178, 'Ireland': 181, 'Malta': 133, 'Norway': 80, 'Germany': 121, 'Israel': 154, 'Luxembourg': 193, 'The Netherlands': 263, 'Spain': 143, 'Belgium': 143, 'Finland': 190, 'United Kingdom': 246, 'France': 210, 'Yugoslavia': 64, 'Portugal': 71}\n"
     ]
    },
    {
     "data": {
      "text/plain": [
       "'The Netherlands'"
      ]
     },
     "execution_count": 46,
     "metadata": {},
     "output_type": "execute_result"
    }
   ],
   "source": [
    "profile = profiles_per_edition['1975f']\n",
    "\n",
    "len(list(profile.values())[0])\n",
    "list(profile.values())\n",
    "\n",
    "all_countries = set(list(profile.values())[0]).union(set(list(profile.values())[1]))\n",
    "len(all_countries)\n",
    "borda(profile)"
   ]
  },
  {
   "cell_type": "code",
   "execution_count": 43,
   "metadata": {},
   "outputs": [
    {
     "data": {
      "text/plain": [
       "[17, 16, 15, 14, 13, 12, 11, 10, 9, 8, 7, 6, 5, 4, 3, 2, 1, 0]"
      ]
     },
     "execution_count": 43,
     "metadata": {},
     "output_type": "execute_result"
    }
   ],
   "source": [
    "list(reversed(range(len(profile) - 1)))"
   ]
  }
 ],
 "metadata": {
  "kernelspec": {
   "display_name": "Python 3",
   "language": "python",
   "name": "python3"
  },
  "language_info": {
   "codemirror_mode": {
    "name": "ipython",
    "version": 3
   },
   "file_extension": ".py",
   "mimetype": "text/x-python",
   "name": "python",
   "nbconvert_exporter": "python",
   "pygments_lexer": "ipython3",
   "version": "3.6.9"
  }
 },
 "nbformat": 4,
 "nbformat_minor": 4
}
