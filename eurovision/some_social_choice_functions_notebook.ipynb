{
 "cells": [
  {
   "cell_type": "code",
   "execution_count": 8,
   "metadata": {},
   "outputs": [],
   "source": [
    "from create_profiles import load_data\n",
    "import random\n",
    "import operator\n",
    "\n",
    "def print_profile(profile):\n",
    "    for country, ballot in profile.items():\n",
    "        print(f\"{country}: {ballot}\")"
   ]
  },
  {
   "cell_type": "code",
   "execution_count": 9,
   "metadata": {},
   "outputs": [],
   "source": [
    "profiles_per_edition = load_data()"
   ]
  },
  {
   "cell_type": "code",
   "execution_count": 10,
   "metadata": {},
   "outputs": [],
   "source": [
    "def get_all_alternatives(profile):\n",
    "    return set(list(profile.values())[0]).union(set(list(profile.values())[1]))\n",
    "\n",
    "def random_dictatorship(profile):\n",
    "    chosen_agent = random.choice(list(profile.keys()))\n",
    "    return profile[chosen_agent][0]\n",
    "\n",
    "def stv_with_random_dictatorship(profile):\n",
    "    remaining_countries = get_all_alternatives(profile)\n",
    "\n",
    "    while(len(remaining_countries) > 1):\n",
    "        chosen_agent = random.choice(list(profile.keys()))\n",
    "        for country in reversed(profile[chosen_agent]):\n",
    "            if country in remaining_countries:\n",
    "                remaining_countries.remove(country)\n",
    "                break\n",
    "    \n",
    "    return remaining_countries.pop()\n",
    "\n",
    "def scoring_social_choice_function(profile, scoring_system):\n",
    "    points_hist = {country: 0 for country in get_all_alternatives(profile)}\n",
    "    for ballot in profile.values():\n",
    "        for to_country, points in zip(ballot, scoring_system):\n",
    "            points_hist[to_country] += points\n",
    "    return max(points_hist.items(), key=operator.itemgetter(1))[0]\n",
    "\n",
    "def song_festival_rules(profile):\n",
    "    scoring_system = [12, 10, 8, 7, 6, 5, 4, 3, 2, 1]\n",
    "    return scoring_social_choice_function(profile, scoring_system)\n",
    "\n",
    "def borda(profile):\n",
    "    scoring_system = list(reversed(range(len(profile) - 1)))\n",
    "    return scoring_social_choice_function(profile, scoring_system)\n",
    "\n",
    "def plurality(profile):\n",
    "    scoring_system = [1]\n",
    "    return scoring_social_choice_function(profile, scoring_system)\n",
    "\n",
    "all_scfs = [random_dictatorship, stv_with_random_dictatorship, plurality, borda, song_festival_rules]\n",
    "all_scf_names = [scf.__name__ for scf in all_scfs]\n",
    "all_scfs_with_names = list(zip(all_scfs, all_scf_names))"
   ]
  },
  {
   "cell_type": "code",
   "execution_count": 53,
   "metadata": {},
   "outputs": [],
   "source": [
    "def add_linear_cost(profile):\n",
    "    \"\"\"\n",
    "    profile: a dict representing the profile of the form {agent: [choice_1, ... , choice_n]}\n",
    "    returns: a dict of the form: {agent: [(choice_1, 0), ... , (choice_n, n-1)]}\n",
    "    \"\"\"\n",
    "    return {agent: list(zip(ballot, range(len(ballot)))) for agent, ballot in profile.items()}\n",
    "\n",
    "def get_total_cost_for_alternative(alternative, profile_with_costs):\n",
    "        cost = 0\n",
    "        for agent, ballot_with_costs in profile_with_costs.items():\n",
    "            alternative_cost_dict = dict(ballot_with_costs)\n",
    "            if alternative in alternative_cost_dict:\n",
    "                cost += alternative_cost_dict[alternative]\n",
    "        return cost\n",
    "\n",
    "def get_lowest_cost(alternatives, profile_with_costs):\n",
    "    lowest_cost = 99999\n",
    "    best_a = None\n",
    "    for a in alternatives:\n",
    "        cost = get_total_cost_for_alternative(a, profile_with_costs)\n",
    "        if cost < lowest_cost:\n",
    "            best_a = a\n",
    "            lowest_cost = cost\n",
    "    return lowest_cost, best_a\n",
    "\n",
    "\n",
    "def distortion(chosen_alternative, profile):\n",
    "    alternatives = get_all_alternatives(profile)\n",
    "    if chosen_alternative not in alternatives:\n",
    "        raise KeyError(\"The chosen alternative is present in the provided profile\")\n",
    "    profile_with_costs = add_linear_cost(profile)\n",
    "    \n",
    "    best_possible_cost, best_a = get_lowest_cost(alternatives, profile_with_costs)\n",
    "    chosen_alternative_cost = get_total_cost_for_alternative(chosen_alternative, profile_with_costs)\n",
    "#     print(f\"Chosen a: {chosen_alternative}({chosen_alternative_cost})\\nBest a: {best_a}({best_possible_cost})\")\n",
    "    return chosen_alternative_cost / best_possible_cost\n",
    "\n",
    "def best_scf(profile, measure=distortion, low_is_good=True):\n",
    "    scf_measure_pairs = dict([(scf_name, measure(scf(profile), profile)) for scf, scf_name in all_scfs_with_names])\n",
    "    for _ in range(999):\n",
    "        for scf_name, score in [(scf_name, measure(scf(profile), profile)) for scf, scf_name in all_scfs_with_names]:\n",
    "            scf_measure_pairs[scf_name] += score\n",
    "    \n",
    "    for scf in scf_measure_pairs:\n",
    "        scf_measure_pairs[scf] /= 1000\n",
    "    \n",
    "    return list(sorted(scf_measure_pairs.items(), key=lambda p: p[1], reverse=(not low_is_good)))\n",
    "\n",
    "def summed_ranks(chosen_alternative, profile):\n",
    "    sum_of_ranks = 0\n",
    "    for ballot in profile.values():\n",
    "        for rank, alternative in zip(range(20), ballot):\n",
    "            if alternative == chosen_alternative:\n",
    "                sum_of_ranks += rank\n",
    "    return sum_of_ranks\n",
    "\n",
    "def min_rank(chosen_alternative, profile):\n",
    "    lowest_rank_of_chosen_alternative_rank = 0\n",
    "    for ballot in profile.values():\n",
    "        for rank, alternative in zip(range(20), ballot):\n",
    "            if alternative == chosen_alternative and rank > lowest_rank_of_chosen_alternative_rank:\n",
    "                lowest_rank_of_chosen_alternative_rank = rank\n",
    "    return lowest_rank_of_chosen_alternative_rank"
   ]
  },
  {
   "cell_type": "code",
   "execution_count": 54,
   "metadata": {},
   "outputs": [],
   "source": [
    "def aggregate_best_scf_for_all_profiles(measure):\n",
    "    scf_hist = {scf_name: 0 for scf_name in all_scf_names}\n",
    "    for edition, profile in profiles_per_edition.items():\n",
    "        ordered_scfs = best_scf(profile, measure)\n",
    "        best_scfs = [scf_name for scf_name, measured_score in ordered_scfs if measured_score == ordered_scfs[0][1]]\n",
    "        for scf in best_scfs:\n",
    "            scf_hist[scf] += 1\n",
    "    return sorted(scf_hist.items(), key=lambda p: p[1], reverse=True)"
   ]
  },
  {
   "cell_type": "code",
   "execution_count": 71,
   "metadata": {},
   "outputs": [
    {
     "name": "stdout",
     "output_type": "stream",
     "text": [
      "[('plurality', 7.0), ('borda', 7.0), ('song_festival_rules', 7.0), ('stv_with_random_dictatorship', 7.53), ('random_dictatorship', 9.218)]\n",
      "73\n"
     ]
    }
   ],
   "source": [
    "# profile = profiles_per_edition['1975f']\n",
    "\n",
    "# print_profile(profiles_per_edition['1975f'])\n",
    "\n",
    "# print(distortion('United Kingdom', profile))\n",
    "# print(distortion('The Netherlands', profile))\n",
    "# print(summed_ranks('United Kingdom', profile))\n",
    "# print(summed_ranks('The Netherlands', profile))\n",
    "# print(min_rank('United Kingdom', profile))\n",
    "# print(min_rank('The Netherlands', profile))\n",
    "\n",
    "# Output:\n",
    "# Min rank: [('borda', 40), ('plurality', 39), ('song_festival_rules', 37), ('stv_with_random_dictatorship', 24), ('random_dictatorship', 1)]\n",
    "# Distortion: [('borda', 72), ('song_festival_rules', 65), ('plurality', 46), ('random_dictatorship', 0), ('stv_with_random_dictatorship', 0)]\n",
    "# Summed ranks: [('borda', 64), ('song_festival_rules', 61), ('plurality', 51), ('random_dictatorship', 2), ('stv_with_random_dictatorship', 0)]\n",
    "\n",
    "# print(f\"Min rank: {aggregate_best_scf_for_all_profiles(min_rank)}\")\n",
    "# print(f\"Distortion: {aggregate_best_scf_for_all_profiles(distortion)}\")\n",
    "# print(f\"Summed ranks: {aggregate_best_scf_for_all_profiles(summed_ranks)}\")\n",
    "print(best_scf(profiles_per_edition[list(profiles_per_edition.keys())[1]], min_rank))\n",
    "print(len(profiles_per_edition))"
   ]
  },
  {
   "cell_type": "code",
   "execution_count": 67,
   "metadata": {},
   "outputs": [
    {
     "ename": "KeyboardInterrupt",
     "evalue": "",
     "output_type": "error",
     "traceback": [
      "\u001b[0;31m---------------------------------------------------------------------------\u001b[0m",
      "\u001b[0;31mKeyboardInterrupt\u001b[0m                         Traceback (most recent call last)",
      "\u001b[0;32m<ipython-input-67-d8b45a685e72>\u001b[0m in \u001b[0;36m<module>\u001b[0;34m\u001b[0m\n\u001b[0;32m----> 1\u001b[0;31m \u001b[0mbest_scf\u001b[0m\u001b[0;34m(\u001b[0m\u001b[0mprofile\u001b[0m\u001b[0;34m)\u001b[0m\u001b[0;34m\u001b[0m\u001b[0;34m\u001b[0m\u001b[0m\n\u001b[0m\u001b[1;32m      2\u001b[0m \u001b[0mbest_scf\u001b[0m\u001b[0;34m(\u001b[0m\u001b[0mprofile\u001b[0m\u001b[0;34m,\u001b[0m \u001b[0mmin_rank\u001b[0m\u001b[0;34m)\u001b[0m\u001b[0;34m\u001b[0m\u001b[0;34m\u001b[0m\u001b[0m\n\u001b[1;32m      3\u001b[0m \u001b[0mbest_scf\u001b[0m\u001b[0;34m(\u001b[0m\u001b[0mprofile\u001b[0m\u001b[0;34m,\u001b[0m \u001b[0msummed_ranks\u001b[0m\u001b[0;34m)\u001b[0m\u001b[0;34m\u001b[0m\u001b[0;34m\u001b[0m\u001b[0m\n",
      "\u001b[0;32m<ipython-input-53-61a636aa0f3d>\u001b[0m in \u001b[0;36mbest_scf\u001b[0;34m(profile, measure, low_is_good)\u001b[0m\n\u001b[1;32m     39\u001b[0m     \u001b[0mscf_measure_pairs\u001b[0m \u001b[0;34m=\u001b[0m \u001b[0mdict\u001b[0m\u001b[0;34m(\u001b[0m\u001b[0;34m[\u001b[0m\u001b[0;34m(\u001b[0m\u001b[0mscf_name\u001b[0m\u001b[0;34m,\u001b[0m \u001b[0mmeasure\u001b[0m\u001b[0;34m(\u001b[0m\u001b[0mscf\u001b[0m\u001b[0;34m(\u001b[0m\u001b[0mprofile\u001b[0m\u001b[0;34m)\u001b[0m\u001b[0;34m,\u001b[0m \u001b[0mprofile\u001b[0m\u001b[0;34m)\u001b[0m\u001b[0;34m)\u001b[0m \u001b[0;32mfor\u001b[0m \u001b[0mscf\u001b[0m\u001b[0;34m,\u001b[0m \u001b[0mscf_name\u001b[0m \u001b[0;32min\u001b[0m \u001b[0mall_scfs_with_names\u001b[0m\u001b[0;34m]\u001b[0m\u001b[0;34m)\u001b[0m\u001b[0;34m\u001b[0m\u001b[0;34m\u001b[0m\u001b[0m\n\u001b[1;32m     40\u001b[0m     \u001b[0;32mfor\u001b[0m \u001b[0m_\u001b[0m \u001b[0;32min\u001b[0m \u001b[0mrange\u001b[0m\u001b[0;34m(\u001b[0m\u001b[0;36m999\u001b[0m\u001b[0;34m)\u001b[0m\u001b[0;34m:\u001b[0m\u001b[0;34m\u001b[0m\u001b[0;34m\u001b[0m\u001b[0m\n\u001b[0;32m---> 41\u001b[0;31m         \u001b[0;32mfor\u001b[0m \u001b[0mscf_name\u001b[0m\u001b[0;34m,\u001b[0m \u001b[0mscore\u001b[0m \u001b[0;32min\u001b[0m \u001b[0;34m[\u001b[0m\u001b[0;34m(\u001b[0m\u001b[0mscf_name\u001b[0m\u001b[0;34m,\u001b[0m \u001b[0mmeasure\u001b[0m\u001b[0;34m(\u001b[0m\u001b[0mscf\u001b[0m\u001b[0;34m(\u001b[0m\u001b[0mprofile\u001b[0m\u001b[0;34m)\u001b[0m\u001b[0;34m,\u001b[0m \u001b[0mprofile\u001b[0m\u001b[0;34m)\u001b[0m\u001b[0;34m)\u001b[0m \u001b[0;32mfor\u001b[0m \u001b[0mscf\u001b[0m\u001b[0;34m,\u001b[0m \u001b[0mscf_name\u001b[0m \u001b[0;32min\u001b[0m \u001b[0mall_scfs_with_names\u001b[0m\u001b[0;34m]\u001b[0m\u001b[0;34m:\u001b[0m\u001b[0;34m\u001b[0m\u001b[0;34m\u001b[0m\u001b[0m\n\u001b[0m\u001b[1;32m     42\u001b[0m             \u001b[0mscf_measure_pairs\u001b[0m\u001b[0;34m[\u001b[0m\u001b[0mscf_name\u001b[0m\u001b[0;34m]\u001b[0m \u001b[0;34m+=\u001b[0m \u001b[0mscore\u001b[0m\u001b[0;34m\u001b[0m\u001b[0;34m\u001b[0m\u001b[0m\n\u001b[1;32m     43\u001b[0m \u001b[0;34m\u001b[0m\u001b[0m\n",
      "\u001b[0;32m<ipython-input-53-61a636aa0f3d>\u001b[0m in \u001b[0;36m<listcomp>\u001b[0;34m(.0)\u001b[0m\n\u001b[1;32m     39\u001b[0m     \u001b[0mscf_measure_pairs\u001b[0m \u001b[0;34m=\u001b[0m \u001b[0mdict\u001b[0m\u001b[0;34m(\u001b[0m\u001b[0;34m[\u001b[0m\u001b[0;34m(\u001b[0m\u001b[0mscf_name\u001b[0m\u001b[0;34m,\u001b[0m \u001b[0mmeasure\u001b[0m\u001b[0;34m(\u001b[0m\u001b[0mscf\u001b[0m\u001b[0;34m(\u001b[0m\u001b[0mprofile\u001b[0m\u001b[0;34m)\u001b[0m\u001b[0;34m,\u001b[0m \u001b[0mprofile\u001b[0m\u001b[0;34m)\u001b[0m\u001b[0;34m)\u001b[0m \u001b[0;32mfor\u001b[0m \u001b[0mscf\u001b[0m\u001b[0;34m,\u001b[0m \u001b[0mscf_name\u001b[0m \u001b[0;32min\u001b[0m \u001b[0mall_scfs_with_names\u001b[0m\u001b[0;34m]\u001b[0m\u001b[0;34m)\u001b[0m\u001b[0;34m\u001b[0m\u001b[0;34m\u001b[0m\u001b[0m\n\u001b[1;32m     40\u001b[0m     \u001b[0;32mfor\u001b[0m \u001b[0m_\u001b[0m \u001b[0;32min\u001b[0m \u001b[0mrange\u001b[0m\u001b[0;34m(\u001b[0m\u001b[0;36m999\u001b[0m\u001b[0;34m)\u001b[0m\u001b[0;34m:\u001b[0m\u001b[0;34m\u001b[0m\u001b[0;34m\u001b[0m\u001b[0m\n\u001b[0;32m---> 41\u001b[0;31m         \u001b[0;32mfor\u001b[0m \u001b[0mscf_name\u001b[0m\u001b[0;34m,\u001b[0m \u001b[0mscore\u001b[0m \u001b[0;32min\u001b[0m \u001b[0;34m[\u001b[0m\u001b[0;34m(\u001b[0m\u001b[0mscf_name\u001b[0m\u001b[0;34m,\u001b[0m \u001b[0mmeasure\u001b[0m\u001b[0;34m(\u001b[0m\u001b[0mscf\u001b[0m\u001b[0;34m(\u001b[0m\u001b[0mprofile\u001b[0m\u001b[0;34m)\u001b[0m\u001b[0;34m,\u001b[0m \u001b[0mprofile\u001b[0m\u001b[0;34m)\u001b[0m\u001b[0;34m)\u001b[0m \u001b[0;32mfor\u001b[0m \u001b[0mscf\u001b[0m\u001b[0;34m,\u001b[0m \u001b[0mscf_name\u001b[0m \u001b[0;32min\u001b[0m \u001b[0mall_scfs_with_names\u001b[0m\u001b[0;34m]\u001b[0m\u001b[0;34m:\u001b[0m\u001b[0;34m\u001b[0m\u001b[0;34m\u001b[0m\u001b[0m\n\u001b[0m\u001b[1;32m     42\u001b[0m             \u001b[0mscf_measure_pairs\u001b[0m\u001b[0;34m[\u001b[0m\u001b[0mscf_name\u001b[0m\u001b[0;34m]\u001b[0m \u001b[0;34m+=\u001b[0m \u001b[0mscore\u001b[0m\u001b[0;34m\u001b[0m\u001b[0;34m\u001b[0m\u001b[0m\n\u001b[1;32m     43\u001b[0m \u001b[0;34m\u001b[0m\u001b[0m\n",
      "\u001b[0;32m<ipython-input-53-61a636aa0f3d>\u001b[0m in \u001b[0;36mdistortion\u001b[0;34m(chosen_alternative, profile)\u001b[0m\n\u001b[1;32m     31\u001b[0m     \u001b[0mprofile_with_costs\u001b[0m \u001b[0;34m=\u001b[0m \u001b[0madd_linear_cost\u001b[0m\u001b[0;34m(\u001b[0m\u001b[0mprofile\u001b[0m\u001b[0;34m)\u001b[0m\u001b[0;34m\u001b[0m\u001b[0;34m\u001b[0m\u001b[0m\n\u001b[1;32m     32\u001b[0m \u001b[0;34m\u001b[0m\u001b[0m\n\u001b[0;32m---> 33\u001b[0;31m     \u001b[0mbest_possible_cost\u001b[0m\u001b[0;34m,\u001b[0m \u001b[0mbest_a\u001b[0m \u001b[0;34m=\u001b[0m \u001b[0mget_lowest_cost\u001b[0m\u001b[0;34m(\u001b[0m\u001b[0malternatives\u001b[0m\u001b[0;34m,\u001b[0m \u001b[0mprofile_with_costs\u001b[0m\u001b[0;34m)\u001b[0m\u001b[0;34m\u001b[0m\u001b[0;34m\u001b[0m\u001b[0m\n\u001b[0m\u001b[1;32m     34\u001b[0m     \u001b[0mchosen_alternative_cost\u001b[0m \u001b[0;34m=\u001b[0m \u001b[0mget_total_cost_for_alternative\u001b[0m\u001b[0;34m(\u001b[0m\u001b[0mchosen_alternative\u001b[0m\u001b[0;34m,\u001b[0m \u001b[0mprofile_with_costs\u001b[0m\u001b[0;34m)\u001b[0m\u001b[0;34m\u001b[0m\u001b[0;34m\u001b[0m\u001b[0m\n\u001b[1;32m     35\u001b[0m \u001b[0;31m#     print(f\"Chosen a: {chosen_alternative}({chosen_alternative_cost})\\nBest a: {best_a}({best_possible_cost})\")\u001b[0m\u001b[0;34m\u001b[0m\u001b[0;34m\u001b[0m\u001b[0;34m\u001b[0m\u001b[0m\n",
      "\u001b[0;32m<ipython-input-53-61a636aa0f3d>\u001b[0m in \u001b[0;36mget_lowest_cost\u001b[0;34m(alternatives, profile_with_costs)\u001b[0m\n\u001b[1;32m     18\u001b[0m     \u001b[0mbest_a\u001b[0m \u001b[0;34m=\u001b[0m \u001b[0;32mNone\u001b[0m\u001b[0;34m\u001b[0m\u001b[0;34m\u001b[0m\u001b[0m\n\u001b[1;32m     19\u001b[0m     \u001b[0;32mfor\u001b[0m \u001b[0ma\u001b[0m \u001b[0;32min\u001b[0m \u001b[0malternatives\u001b[0m\u001b[0;34m:\u001b[0m\u001b[0;34m\u001b[0m\u001b[0;34m\u001b[0m\u001b[0m\n\u001b[0;32m---> 20\u001b[0;31m         \u001b[0mcost\u001b[0m \u001b[0;34m=\u001b[0m \u001b[0mget_total_cost_for_alternative\u001b[0m\u001b[0;34m(\u001b[0m\u001b[0ma\u001b[0m\u001b[0;34m,\u001b[0m \u001b[0mprofile_with_costs\u001b[0m\u001b[0;34m)\u001b[0m\u001b[0;34m\u001b[0m\u001b[0;34m\u001b[0m\u001b[0m\n\u001b[0m\u001b[1;32m     21\u001b[0m         \u001b[0;32mif\u001b[0m \u001b[0mcost\u001b[0m \u001b[0;34m<\u001b[0m \u001b[0mlowest_cost\u001b[0m\u001b[0;34m:\u001b[0m\u001b[0;34m\u001b[0m\u001b[0;34m\u001b[0m\u001b[0m\n\u001b[1;32m     22\u001b[0m             \u001b[0mbest_a\u001b[0m \u001b[0;34m=\u001b[0m \u001b[0ma\u001b[0m\u001b[0;34m\u001b[0m\u001b[0;34m\u001b[0m\u001b[0m\n",
      "\u001b[0;32m<ipython-input-53-61a636aa0f3d>\u001b[0m in \u001b[0;36mget_total_cost_for_alternative\u001b[0;34m(alternative, profile_with_costs)\u001b[0m\n\u001b[1;32m      9\u001b[0m         \u001b[0mcost\u001b[0m \u001b[0;34m=\u001b[0m \u001b[0;36m0\u001b[0m\u001b[0;34m\u001b[0m\u001b[0;34m\u001b[0m\u001b[0m\n\u001b[1;32m     10\u001b[0m         \u001b[0;32mfor\u001b[0m \u001b[0magent\u001b[0m\u001b[0;34m,\u001b[0m \u001b[0mballot_with_costs\u001b[0m \u001b[0;32min\u001b[0m \u001b[0mprofile_with_costs\u001b[0m\u001b[0;34m.\u001b[0m\u001b[0mitems\u001b[0m\u001b[0;34m(\u001b[0m\u001b[0;34m)\u001b[0m\u001b[0;34m:\u001b[0m\u001b[0;34m\u001b[0m\u001b[0;34m\u001b[0m\u001b[0m\n\u001b[0;32m---> 11\u001b[0;31m             \u001b[0malternative_cost_dict\u001b[0m \u001b[0;34m=\u001b[0m \u001b[0mdict\u001b[0m\u001b[0;34m(\u001b[0m\u001b[0mballot_with_costs\u001b[0m\u001b[0;34m)\u001b[0m\u001b[0;34m\u001b[0m\u001b[0;34m\u001b[0m\u001b[0m\n\u001b[0m\u001b[1;32m     12\u001b[0m             \u001b[0;32mif\u001b[0m \u001b[0malternative\u001b[0m \u001b[0;32min\u001b[0m \u001b[0malternative_cost_dict\u001b[0m\u001b[0;34m:\u001b[0m\u001b[0;34m\u001b[0m\u001b[0;34m\u001b[0m\u001b[0m\n\u001b[1;32m     13\u001b[0m                 \u001b[0mcost\u001b[0m \u001b[0;34m+=\u001b[0m \u001b[0malternative_cost_dict\u001b[0m\u001b[0;34m[\u001b[0m\u001b[0malternative\u001b[0m\u001b[0;34m]\u001b[0m\u001b[0;34m\u001b[0m\u001b[0;34m\u001b[0m\u001b[0m\n",
      "\u001b[0;31mKeyboardInterrupt\u001b[0m: "
     ]
    }
   ],
   "source": [
    "best_scf(profile)\n",
    "best_scf(profile, min_rank)\n",
    "best_scf(profile, summed_ranks)"
   ]
  },
  {
   "cell_type": "code",
   "execution_count": 17,
   "metadata": {},
   "outputs": [
    {
     "data": {
      "text/plain": [
       "0.5437262357414449"
      ]
     },
     "execution_count": 17,
     "metadata": {},
     "output_type": "execute_result"
    }
   ],
   "source": [
    "def borda_measure(profile, chosen_alternative):\n",
    "    '''To calculate the Borda measure for a function, first calculate chosen_alternative with the given function, \n",
    "    then plug it in in this function. '''\n",
    "    borda_winner = borda(profile)\n",
    "    scoring_system = list(reversed(range(len(profile) - 1)))\n",
    "    points_hist = {country: 0 for country in get_all_alternatives(profile)}\n",
    "    for ballot in profile.values():\n",
    "        for to_country, points in zip(ballot, scoring_system):\n",
    "            points_hist[to_country] += points\n",
    "    borda_score_of_chosen_alternative = points_hist[chosen_alternative]\n",
    "    borda_score_of_winner = points_hist[borda_winner]\n",
    "    result = borda_score_of_chosen_alternative/borda_score_of_winner\n",
    "    '''Eigenlijk zou het resultaat het minimum van bovenstaande over alle profiles moeten zijn, \n",
    "    maar er zijn 121.645.100.408.832.000‬ mogelijke profiles..'''\n",
    "    return result\n",
    "\n",
    "borda_measure(profile, 'Belgium')"
   ]
  }
 ],
 "metadata": {
  "kernelspec": {
   "display_name": "Python 3",
   "language": "python",
   "name": "python3"
  },
  "language_info": {
   "codemirror_mode": {
    "name": "ipython",
    "version": 3
   },
   "file_extension": ".py",
   "mimetype": "text/x-python",
   "name": "python",
   "nbconvert_exporter": "python",
   "pygments_lexer": "ipython3",
   "version": "3.6.9"
  }
 },
 "nbformat": 4,
 "nbformat_minor": 4
}
